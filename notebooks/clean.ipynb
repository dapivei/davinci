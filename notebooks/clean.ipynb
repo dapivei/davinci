{
 "cells": [
  {
   "cell_type": "code",
   "execution_count": 1,
   "id": "caf88def-a107-4498-8474-c5866c166454",
   "metadata": {},
   "outputs": [],
   "source": [
    "import pandas as pd\n",
    "import re\n",
    "\n",
    "from datetime import datetime"
   ]
  },
  {
   "cell_type": "code",
   "execution_count": 2,
   "id": "84b65c76-2b48-4c5b-87fe-dcb222af7f72",
   "metadata": {},
   "outputs": [],
   "source": [
    "def interventions(text):\n",
    "    pattern = r'([A-ZÁÉÍÓÚÑ][A-ZÁÉÍÓÚÑ\\s]+?:\\s*[\\s\\S]*?)(?=[A-ZÁÉÍÓÚÑ][A-ZÁÉÍÓÚÑ\\s]+?:|\\Z)'\n",
    "    interventions = re.findall(pattern, text)\n",
    "    return interventions\n",
    "\n",
    "def timestamp(string):\n",
    "    try:\n",
    "        english_month = {\n",
    "            'enero': 'January',\n",
    "            'febrero': 'February',\n",
    "            'marzo': 'March',\n",
    "            'abril': 'April',\n",
    "            'mayo': 'May',\n",
    "            'junio': 'June',\n",
    "            'julio': 'July',\n",
    "            'agosto': 'August',\n",
    "            'septiembre': 'September',\n",
    "            'octubre': 'October',\n",
    "            'noviembre': 'November',\n",
    "            'diciembre': 'December'\n",
    "        }\n",
    "        for key, value in english_month.items():\n",
    "            date = string.replace(key, value)\n",
    "        timestamp = pd.to_datetime(date, format='%B %d, %Y')\n",
    "        return timestamp.strftime('%Y-%m-%d')\n",
    "    except ValueError:\n",
    "        return pd.NaT\n",
    "\n",
    "def president_interventio(text):\n",
    "    match = 'PRESIDENTE ANDRÉS MANUEL LÓPEZ OBRADOR:'\n",
    "    filtered_list = [elem for elem in text if elem.startswith(match)]\n",
    "    return filtered_list\n"
   ]
  },
  {
   "cell_type": "code",
   "execution_count": 3,
   "id": "b6467def-dd92-4b2e-8f37-9a7599ebe766",
   "metadata": {},
   "outputs": [],
   "source": [
    "json_file = '../data/raw/discourse.json'\n",
    "\n",
    "df = pd.read_json(json_file)\n",
    "\n",
    "df['timestamp'] = df['entry-date'].apply(timestamp)\n",
    "\n",
    "df['interventions'] = df['entry-content'].apply(interventions)\n",
    "\n",
    "df['president'] = df['interventions'].apply(president_interventio)\n"
   ]
  },
  {
   "cell_type": "code",
   "execution_count": null,
   "id": "18fe1e3b-b759-4b99-8e3f-09024d663a35",
   "metadata": {},
   "outputs": [],
   "source": []
  }
 ],
 "metadata": {
  "kernelspec": {
   "display_name": "Python 3",
   "language": "python",
   "name": "python3"
  },
  "language_info": {
   "codemirror_mode": {
    "name": "ipython",
    "version": 3
   },
   "file_extension": ".py",
   "mimetype": "text/x-python",
   "name": "python",
   "nbconvert_exporter": "python",
   "pygments_lexer": "ipython3",
   "version": "3.8.15"
  }
 },
 "nbformat": 4,
 "nbformat_minor": 5
}
