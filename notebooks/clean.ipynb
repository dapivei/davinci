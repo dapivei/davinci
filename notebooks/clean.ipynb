{
 "cells": [
  {
   "cell_type": "code",
   "execution_count": 1,
   "id": "caf88def-a107-4498-8474-c5866c166454",
   "metadata": {},
   "outputs": [],
   "source": [
    "import pandas as pd\n",
    "import re\n",
    "\n",
    "from datetime import datetime"
   ]
  },
  {
   "cell_type": "code",
   "execution_count": 2,
   "id": "84b65c76-2b48-4c5b-87fe-dcb222af7f72",
   "metadata": {},
   "outputs": [],
   "source": [
    "month_dict = {\n",
    "    'enero': '01', 'febrero': '02', 'marzo': '03', 'abril': '04',\n",
    "    'mayo': '05', 'junio': '06', 'julio': '07', 'agosto': '08',\n",
    "    'septiembre': '09', 'octubre': '10', 'noviembre': '11', 'diciembre': '12'\n",
    "}\n",
    "\n",
    "def interventions(text):\n",
    "    pattern = r'([A-ZÁÉÍÓÚÑ][A-ZÁÉÍÓÚÑ\\s]+?:\\s*[\\s\\S]*?)(?=[A-ZÁÉÍÓÚÑ][A-ZÁÉÍÓÚÑ\\s]+?:|\\Z)'\n",
    "    interventions = re.findall(pattern, text)\n",
    "    return interventions\n",
    "\n",
    "\n",
    "def president_interventio(text):\n",
    "    match = 'PRESIDENTE ANDRÉS MANUEL LÓPEZ OBRADOR:'\n",
    "    filtered_list = [elem for elem in text if elem.startswith(match)]\n",
    "    return filtered_list\n",
    "\n",
    "\n",
    "def convert_to_iso(date_str):\n",
    "    parts = date_str.split()\n",
    "    month = month_dict.get(parts[0].lower(), '01')\n",
    "    day = parts[1].replace(',', '')\n",
    "    year = parts[2]\n",
    "    return f\"{year}-{month}-{day.zfill(2)}\"\n",
    "\n"
   ]
  },
  {
   "cell_type": "markdown",
   "id": "616b8435-36f1-444e-81c5-a6a8243719aa",
   "metadata": {},
   "source": [
    "## Discourses"
   ]
  },
  {
   "cell_type": "code",
   "execution_count": 3,
   "id": "b6467def-dd92-4b2e-8f37-9a7599ebe766",
   "metadata": {},
   "outputs": [],
   "source": [
    "json_file = '../data/raw/discourse.json'\n",
    "\n",
    "discourses = pd.read_json(json_file)\n",
    "\n",
    "discourses['timestamp'] = discourses['entry-date'].apply(convert_to_iso)\n",
    "\n",
    "discourses['interventions'] = discourses['entry-content'].apply(interventions)\n",
    "\n",
    "discourses['president'] = discourses['interventions'].apply(president_interventio)\n"
   ]
  },
  {
   "cell_type": "markdown",
   "id": "46b1758d-a561-4c4e-903b-adac8100fd57",
   "metadata": {},
   "source": [
    "## Interventions"
   ]
  },
  {
   "cell_type": "code",
   "execution_count": 4,
   "id": "22074567-6714-48a5-a370-8e689f380ee5",
   "metadata": {},
   "outputs": [],
   "source": [
    "interventions = discourses.explode(\n",
    "    'interventions', ignore_index=True\n",
    ")\n",
    "interventions['speaker'] = interventions['interventions'].astype(str).apply(\n",
    "    lambda x: x.split(':', 1)[0] if len(x.split(':', 1)) > 1 else x)\n",
    "interventions['speech'] = interventions['interventions'].astype(str).apply(\n",
    "    lambda x: x.split(':', 1)[1] if len(x.split(':', 1)) > 1 else x\n",
    ")\n",
    "interventions.drop(\n",
    "    columns=['interventions', 'entry-date', 'president', 'entry-title', 'entry-content', 'entry-url'], \n",
    "    inplace=True\n",
    ")"
   ]
  },
  {
   "cell_type": "code",
   "execution_count": 5,
   "id": "abc6989d-5118-4085-aa12-ac953765b2b8",
   "metadata": {},
   "outputs": [
    {
     "data": {
      "text/html": [
       "<div>\n",
       "<style scoped>\n",
       "    .dataframe tbody tr th:only-of-type {\n",
       "        vertical-align: middle;\n",
       "    }\n",
       "\n",
       "    .dataframe tbody tr th {\n",
       "        vertical-align: top;\n",
       "    }\n",
       "\n",
       "    .dataframe thead th {\n",
       "        text-align: right;\n",
       "    }\n",
       "</style>\n",
       "<table border=\"1\" class=\"dataframe\">\n",
       "  <thead>\n",
       "    <tr style=\"text-align: right;\">\n",
       "      <th></th>\n",
       "      <th>timestamp</th>\n",
       "      <th>speaker</th>\n",
       "      <th>speech</th>\n",
       "    </tr>\n",
       "  </thead>\n",
       "  <tbody>\n",
       "    <tr>\n",
       "      <th>48024</th>\n",
       "      <td>2021-08-03</td>\n",
       "      <td>PRESIDENTE ANDRÉS MANUEL LÓPEZ OBRADOR</td>\n",
       "      <td>Muchas gracias.\\nYa se nos pasó, nada más nos...</td>\n",
       "    </tr>\n",
       "    <tr>\n",
       "      <th>105897</th>\n",
       "      <td>2024-03-05</td>\n",
       "      <td>ROSA ICELA RODRÍGUEZ VELÁZQUEZ</td>\n",
       "      <td>Sí, vuelvo a insistir lo que acabo de informa...</td>\n",
       "    </tr>\n",
       "    <tr>\n",
       "      <th>74873</th>\n",
       "      <td>2022-12-06</td>\n",
       "      <td>PRESIDENTE ANDRÉS MANUEL LÓPEZ OBRADOR</td>\n",
       "      <td>Sí. Son como testigos de cómo se ha hundido l...</td>\n",
       "    </tr>\n",
       "    <tr>\n",
       "      <th>78231</th>\n",
       "      <td>2023-01-25</td>\n",
       "      <td>INTERLOCUTOR</td>\n",
       "      <td>Muchas gracias, señor presidente, me pongo de...</td>\n",
       "    </tr>\n",
       "    <tr>\n",
       "      <th>76298</th>\n",
       "      <td>2022-12-26</td>\n",
       "      <td>PRESIDENTE ANDRÉS MANUEL LÓPEZ OBRADOR</td>\n",
       "      <td>Diecisiete años sin condena. ¿Qué, no habla l...</td>\n",
       "    </tr>\n",
       "    <tr>\n",
       "      <th>74995</th>\n",
       "      <td>2022-12-07</td>\n",
       "      <td>INTERVENCIÓN</td>\n",
       "      <td>(inaudible)\\n</td>\n",
       "    </tr>\n",
       "    <tr>\n",
       "      <th>77171</th>\n",
       "      <td>2023-01-09</td>\n",
       "      <td>PRESIDENTE ANDRÉS MANUEL LÓPEZ OBRADOR</td>\n",
       "      <td>Muy bien. Vamos. Pues, los cuatro y los tres,...</td>\n",
       "    </tr>\n",
       "    <tr>\n",
       "      <th>29346</th>\n",
       "      <td>2020-07-29</td>\n",
       "      <td>PRESIDENTE ANDRÉS MANUEL LÓPEZ OBRADOR</td>\n",
       "      <td>Yo nada más en lo general les digo que nunca ...</td>\n",
       "    </tr>\n",
       "    <tr>\n",
       "      <th>48617</th>\n",
       "      <td>2021-08-11</td>\n",
       "      <td>INTERLOCUTORA</td>\n",
       "      <td>¿Y esa no sería la misma situación que los pr...</td>\n",
       "    </tr>\n",
       "    <tr>\n",
       "      <th>85542</th>\n",
       "      <td>2023-05-12</td>\n",
       "      <td>INTERLOCUTOR</td>\n",
       "      <td>Mire, usted, que habla de dignidad y creo que...</td>\n",
       "    </tr>\n",
       "  </tbody>\n",
       "</table>\n",
       "</div>"
      ],
      "text/plain": [
       "         timestamp                                 speaker  \\\n",
       "48024   2021-08-03  PRESIDENTE ANDRÉS MANUEL LÓPEZ OBRADOR   \n",
       "105897  2024-03-05          ROSA ICELA RODRÍGUEZ VELÁZQUEZ   \n",
       "74873   2022-12-06  PRESIDENTE ANDRÉS MANUEL LÓPEZ OBRADOR   \n",
       "78231   2023-01-25                            INTERLOCUTOR   \n",
       "76298   2022-12-26  PRESIDENTE ANDRÉS MANUEL LÓPEZ OBRADOR   \n",
       "74995   2022-12-07                            INTERVENCIÓN   \n",
       "77171   2023-01-09  PRESIDENTE ANDRÉS MANUEL LÓPEZ OBRADOR   \n",
       "29346   2020-07-29  PRESIDENTE ANDRÉS MANUEL LÓPEZ OBRADOR   \n",
       "48617   2021-08-11                           INTERLOCUTORA   \n",
       "85542   2023-05-12                            INTERLOCUTOR   \n",
       "\n",
       "                                                   speech  \n",
       "48024    Muchas gracias.\\nYa se nos pasó, nada más nos...  \n",
       "105897   Sí, vuelvo a insistir lo que acabo de informa...  \n",
       "74873    Sí. Son como testigos de cómo se ha hundido l...  \n",
       "78231    Muchas gracias, señor presidente, me pongo de...  \n",
       "76298    Diecisiete años sin condena. ¿Qué, no habla l...  \n",
       "74995                                       (inaudible)\\n  \n",
       "77171    Muy bien. Vamos. Pues, los cuatro y los tres,...  \n",
       "29346    Yo nada más en lo general les digo que nunca ...  \n",
       "48617    ¿Y esa no sería la misma situación que los pr...  \n",
       "85542    Mire, usted, que habla de dignidad y creo que...  "
      ]
     },
     "execution_count": 5,
     "metadata": {},
     "output_type": "execute_result"
    }
   ],
   "source": [
    "interventions.sample(10)"
   ]
  },
  {
   "cell_type": "code",
   "execution_count": 6,
   "id": "265de918-1132-4af2-bc2f-e2fe5c8d45de",
   "metadata": {},
   "outputs": [],
   "source": [
    "interventions.to_json('../data/raw/interventions.json')"
   ]
  },
  {
   "cell_type": "code",
   "execution_count": null,
   "id": "1af82c2e-49b2-4186-b4b1-6793d3c65446",
   "metadata": {},
   "outputs": [],
   "source": []
  }
 ],
 "metadata": {
  "kernelspec": {
   "display_name": "Python 3 (ipykernel)",
   "language": "python",
   "name": "python3"
  },
  "language_info": {
   "codemirror_mode": {
    "name": "ipython",
    "version": 3
   },
   "file_extension": ".py",
   "mimetype": "text/x-python",
   "name": "python",
   "nbconvert_exporter": "python",
   "pygments_lexer": "ipython3",
   "version": "3.11.7"
  }
 },
 "nbformat": 4,
 "nbformat_minor": 5
}
