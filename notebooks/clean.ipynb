{
 "cells": [
  {
   "cell_type": "code",
   "execution_count": 12,
   "id": "caf88def-a107-4498-8474-c5866c166454",
   "metadata": {},
   "outputs": [],
   "source": [
    "import pandas as pd\n",
    "import re\n",
    "\n",
    "from datetime import datetime"
   ]
  },
  {
   "cell_type": "code",
   "execution_count": 2,
   "id": "84b65c76-2b48-4c5b-87fe-dcb222af7f72",
   "metadata": {},
   "outputs": [],
   "source": [
    "month_dict = {\n",
    "    'enero': '01', 'febrero': '02', 'marzo': '03', 'abril': '04',\n",
    "    'mayo': '05', 'junio': '06', 'julio': '07', 'agosto': '08',\n",
    "    'septiembre': '09', 'octubre': '10', 'noviembre': '11', 'diciembre': '12'\n",
    "}\n",
    "\n",
    "def interventions(text):\n",
    "    pattern = r'([A-ZÁÉÍÓÚÑ][A-ZÁÉÍÓÚÑ\\s]+?:\\s*[\\s\\S]*?)(?=[A-ZÁÉÍÓÚÑ][A-ZÁÉÍÓÚÑ\\s]+?:|\\Z)'\n",
    "    interventions = re.findall(pattern, text)\n",
    "    return interventions\n",
    "\n",
    "\n",
    "def president_interventio(text):\n",
    "    match = 'PRESIDENTE ANDRÉS MANUEL LÓPEZ OBRADOR:'\n",
    "    filtered_list = [elem for elem in text if elem.startswith(match)]\n",
    "    return filtered_list\n",
    "\n",
    "\n",
    "def convert_to_iso(date_str):\n",
    "    parts = date_str.split()\n",
    "    month = month_dict.get(parts[0].lower(), '01')\n",
    "    day = parts[1].replace(',', '')\n",
    "    year = parts[2]\n",
    "    return f\"{year}-{month}-{day.zfill(2)}\"\n",
    "\n"
   ]
  },
  {
   "cell_type": "markdown",
   "id": "616b8435-36f1-444e-81c5-a6a8243719aa",
   "metadata": {},
   "source": [
    "## Discourses"
   ]
  },
  {
   "cell_type": "code",
   "execution_count": null,
   "id": "b6467def-dd92-4b2e-8f37-9a7599ebe766",
   "metadata": {},
   "outputs": [],
   "source": [
    "json_file = '../data/raw/discourse.json'\n",
    "\n",
    "discourses = pd.read_json(json_file)\n",
    "\n",
    "discourses['timestamp'] = discourses['entry-date'].apply(convert_to_iso)\n",
    "\n",
    "discourses['interventions'] = discourses['entry-content'].apply(interventions)\n",
    "\n",
    "discourses['president'] = discourses['interventions'].apply(president_interventio)\n",
    "\n",
    "\n",
    "discourses = discourses[discourses['entry-title'].str.contains(\n",
    "    'prensa matutina', case=False\n",
    ")]"
   ]
  },
  {
   "cell_type": "code",
   "execution_count": null,
   "id": "297050cb-7c00-43ee-b571-baf9738d6eb3",
   "metadata": {},
   "outputs": [],
   "source": [
    "discourses.sample(10)"
   ]
  },
  {
   "cell_type": "code",
   "execution_count": 5,
   "id": "fba6c86f-7c76-431b-a97d-f75cad42eb65",
   "metadata": {},
   "outputs": [],
   "source": [
    "discourses.drop(\n",
    "    columns=['entry-date', 'entry-title']\n",
    ").to_json('../data/prepro/discourses.json')"
   ]
  },
  {
   "cell_type": "code",
   "execution_count": null,
   "id": "ab2f96e8-f2fe-4b32-9b74-5591865766b1",
   "metadata": {},
   "outputs": [],
   "source": []
  },
  {
   "cell_type": "markdown",
   "id": "46b1758d-a561-4c4e-903b-adac8100fd57",
   "metadata": {},
   "source": [
    "## Interventions"
   ]
  },
  {
   "cell_type": "code",
   "execution_count": 7,
   "id": "22074567-6714-48a5-a370-8e689f380ee5",
   "metadata": {},
   "outputs": [],
   "source": [
    "interventions = discourses.explode(\n",
    "    'interventions', ignore_index=True\n",
    ")\n",
    "interventions['speaker'] = interventions['interventions'].astype(str).apply(\n",
    "    lambda x: x.split(':', 1)[0] if len(x.split(':', 1)) > 1 else x)\n",
    "interventions['speech'] = interventions['interventions'].astype(str).apply(\n",
    "    lambda x: x.split(':', 1)[1] if len(x.split(':', 1)) > 1 else x\n",
    ")\n",
    "interventions.drop(\n",
    "    columns=['interventions', 'entry-date', 'president', 'entry-title', 'entry-content', 'entry-url'], \n",
    "    inplace=True\n",
    ")"
   ]
  },
  {
   "cell_type": "code",
   "execution_count": null,
   "id": "abc6989d-5118-4085-aa12-ac953765b2b8",
   "metadata": {},
   "outputs": [],
   "source": [
    "interventions.sample(10)"
   ]
  },
  {
   "cell_type": "code",
   "execution_count": 10,
   "id": "1af82c2e-49b2-4186-b4b1-6793d3c65446",
   "metadata": {},
   "outputs": [],
   "source": [
    "interventions.to_json('../data/prepro/interventions.json')"
   ]
  }
 ],
 "metadata": {
  "kernelspec": {
   "display_name": "VisMLProject",
   "language": "python",
   "name": "vismlproject"
  },
  "language_info": {
   "codemirror_mode": {
    "name": "ipython",
    "version": 3
   },
   "file_extension": ".py",
   "mimetype": "text/x-python",
   "name": "python",
   "nbconvert_exporter": "python",
   "pygments_lexer": "ipython3",
   "version": "3.12.2"
  }
 },
 "nbformat": 4,
 "nbformat_minor": 5
}
